{
 "cells": [
  {
   "cell_type": "code",
   "execution_count": 2,
   "id": "96a4cee1-4489-4dda-a73c-fd6ed4f54091",
   "metadata": {},
   "outputs": [
    {
     "data": {
      "text/plain": [
       "\"\\n1. Exceptions: These are errors that happen while the program is running. They can occur when something unexpected occurs, like dividing by zero or trying to access a file that doesn't exist. Exceptions are not always fatal, meaning they don't always crash the entire program. Instead, we can use special blocks called try-except blocks to handle these errors gracefully. For example, if we expect a file to exist but it doesn't, we can catch the FileNotFoundError and handle it without crashing the program.\\n\\n2. Syntax Errors: These errors happen when you write code that doesn't follow the rules of the Python language. They are detected before the program starts running because the Python interpreter can't understand the code. Syntax errors need to be fixed before you can run the program. Examples of syntax errors include forgetting to put a colon at the end of a line, using parentheses or brackets incorrectly, or misspelling Python keywords.\""
      ]
     },
     "execution_count": 2,
     "metadata": {},
     "output_type": "execute_result"
    }
   ],
   "source": [
    "# Q1. What is an exception in python? Write the difference between exceptions and syntax errors?\n",
    "\n",
    "\"\"\"\n",
    "1. Exceptions: These are errors that happen while the program is running. They can occur when something unexpected occurs, like dividing by zero or trying to access a file that doesn't exist. Exceptions are not always fatal, meaning they don't always crash the entire program. Instead, we can use special blocks called try-except blocks to handle these errors gracefully. For example, if we expect a file to exist but it doesn't, we can catch the FileNotFoundError and handle it without crashing the program.\n",
    "\n",
    "2. Syntax Errors: These errors happen when you write code that doesn't follow the rules of the Python language. They are detected before the program starts running because the Python interpreter can't understand the code. Syntax errors need to be fixed before you can run the program. Examples of syntax errors include forgetting to put a colon at the end of a line, using parentheses or brackets incorrectly, or misspelling Python keywords.\"\"\""
   ]
  },
  {
   "cell_type": "code",
   "execution_count": 4,
   "id": "d87bdc22-2c93-444b-bd5b-61faaf03e3da",
   "metadata": {},
   "outputs": [
    {
     "name": "stdout",
     "output_type": "stream",
     "text": [
      "Index Error: list index out of range\n"
     ]
    }
   ],
   "source": [
    "#Q2. What happens when an exception is not handled? Explain with an example.\n",
    "\n",
    "\"\"\" When exception is not handled in python, it will give error with detailed report below are example\"\"\"\n",
    "\n",
    "\n",
    "\n",
    "my_list = [1, 2, 3, 4, 5]\n",
    "\n",
    "try:\n",
    "    print(my_list[10])  \n",
    "except IndexError as e:\n",
    "    print(\"Index Error:\", e)\n"
   ]
  },
  {
   "cell_type": "code",
   "execution_count": 7,
   "id": "9d4a868f-7ffd-4312-b031-3c2c16a8261f",
   "metadata": {},
   "outputs": [
    {
     "name": "stdin",
     "output_type": "stream",
     "text": [
      "Enter the name of the file:  test.txt\n"
     ]
    },
    {
     "name": "stdout",
     "output_type": "stream",
     "text": [
      "File contents:\n",
      "lorem37 \n",
      "lorem390\n"
     ]
    }
   ],
   "source": [
    "# Q3. Which python statements are used to catch and handle exceptions? Explain with an example.\n",
    "\n",
    "\n",
    "try:\n",
    "    file_name = input(\"Enter the name of the file: \")  \n",
    "    with open(file_name, 'r') as file:  \n",
    "        contents = file.read()  \n",
    "        print(\"File contents:\")\n",
    "        print(contents)\n",
    "except FileNotFoundError:\n",
    "    print(\"File not found! Please make sure you entered the correct file name.\")\n"
   ]
  },
  {
   "cell_type": "code",
   "execution_count": 10,
   "id": "6444ca64-fe12-42da-9f08-567ca2139d96",
   "metadata": {},
   "outputs": [
    {
     "name": "stdout",
     "output_type": "stream",
     "text": [
      "Division is successful... Result: 5.0\n",
      "This will always execute.\n"
     ]
    }
   ],
   "source": [
    "# Q4. Explain with an example: try and else, finally,  raise\n",
    "\n",
    "def divide(x, y):\n",
    "    try:\n",
    "        result = x / y\n",
    "    except ZeroDivisionError:\n",
    "        print(\"ZeroDivisionError\")\n",
    "    else:\n",
    "        print(\"Division is successful... Result:\", result)\n",
    "    finally:\n",
    "        print(\"This will always execute.\")\n",
    "divide(10, 2)"
   ]
  },
  {
   "cell_type": "code",
   "execution_count": 12,
   "id": "1a9fe718-83b7-4d32-8885-0a6fb4757129",
   "metadata": {},
   "outputs": [
    {
     "name": "stdin",
     "output_type": "stream",
     "text": [
      "Enter your age:  21\n"
     ]
    },
    {
     "name": "stdout",
     "output_type": "stream",
     "text": [
      "Welcome to the club!\n"
     ]
    }
   ],
   "source": [
    "#Q.5 What are custom exceptions in python? Why do we need custom exceptions? Explain with an example.\n",
    "\n",
    "class InvalidAgeError(Exception):\n",
    "    pass\n",
    "\n",
    "def enter_club(age):\n",
    "    if age < 18:\n",
    "        raise InvalidAgeError(\"You must be at least 18 years old to enter the club.\")\n",
    "    else:\n",
    "        print(\"Welcome to the club!\")\n",
    "\n",
    "try:\n",
    "    user_age = int(input(\"Enter your age: \"))\n",
    "    enter_club(user_age)\n",
    "except InvalidAgeError as e:\n",
    "    print(e)\n"
   ]
  },
  {
   "cell_type": "code",
   "execution_count": 15,
   "id": "bd46c799-67a0-4e0d-85dd-70dc192c6bbd",
   "metadata": {},
   "outputs": [
    {
     "name": "stdout",
     "output_type": "stream",
     "text": [
      "Custom error caught: Value cannot be negative.\n"
     ]
    }
   ],
   "source": [
    "# Q.6 Create a custom exception class. use this class to handle an exception.\n",
    "\n",
    "class CustomError(Exception):\n",
    "    def __init__(self, message):\n",
    "        self.message = message\n",
    "\n",
    "def check_value(x):\n",
    "    if x < 0:\n",
    "        raise CustomError(\"Value cannot be negative.\")\n",
    "\n",
    "try:\n",
    "    value = -10\n",
    "\n",
    "    check_value(value)\n",
    "except CustomError as e:\n",
    "    print(\"Custom error caught:\", e.message)"
   ]
  },
  {
   "cell_type": "code",
   "execution_count": null,
   "id": "c6b5df80-bef3-46eb-a3d3-ba8cc549273e",
   "metadata": {},
   "outputs": [],
   "source": []
  }
 ],
 "metadata": {
  "kernelspec": {
   "display_name": "Python 3 (ipykernel)",
   "language": "python",
   "name": "python3"
  },
  "language_info": {
   "codemirror_mode": {
    "name": "ipython",
    "version": 3
   },
   "file_extension": ".py",
   "mimetype": "text/x-python",
   "name": "python",
   "nbconvert_exporter": "python",
   "pygments_lexer": "ipython3",
   "version": "3.10.8"
  }
 },
 "nbformat": 4,
 "nbformat_minor": 5
}
